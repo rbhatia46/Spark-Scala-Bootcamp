{
 "cells": [
  {
   "cell_type": "code",
   "execution_count": 1,
   "metadata": {},
   "outputs": [
    {
     "data": {
      "text/plain": [
       "Intitializing Scala interpreter ..."
      ]
     },
     "metadata": {},
     "output_type": "display_data"
    },
    {
     "data": {
      "text/plain": [
       "Spark Web UI available at http://rinmac452.domain.name:4042\n",
       "SparkContext available as 'sc' (version = 3.0.0, master = local[*], app id = local-1596283742866)\n",
       "SparkSession available as 'spark'\n"
      ]
     },
     "metadata": {},
     "output_type": "display_data"
    },
    {
     "data": {
      "text/plain": [
       "x: Int = 2\n",
       "y: Int = 3\n",
       "res0: Int = 5\n"
      ]
     },
     "execution_count": 1,
     "metadata": {},
     "output_type": "execute_result"
    }
   ],
   "source": [
    "// Testing the interpreter\n",
    "val x = 2\n",
    "val y = 3\n",
    "x+y"
   ]
  },
  {
   "cell_type": "code",
   "execution_count": 4,
   "metadata": {},
   "outputs": [
    {
     "name": "stdout",
     "output_type": "stream",
     "text": [
      "+-------+----------+------------------+-----------------+------------------+------------------+-----------------+\n",
      "|summary|      Date|              Open|             High|               Low|             Close|           Volume|\n",
      "+-------+----------+------------------+-----------------+------------------+------------------+-----------------+\n",
      "|  count|       755|               755|              755|               755|               755|              755|\n",
      "|   mean|      null| 386.0923178807949|390.6590596026489|380.80170860927143| 385.3421456953643|6308596.382781457|\n",
      "| stddev|      null|149.32301134820133|148.5151130063523|150.53136890891344|149.83310074439177| 8099892.56297633|\n",
      "|    min|2006-01-03|              54.4|             55.3|              30.5|              37.7|           632860|\n",
      "|    max|2008-12-31|             566.0|            570.0|             555.5|             564.1|        102869289|\n",
      "+-------+----------+------------------+-----------------+------------------+------------------+-----------------+\n",
      "\n"
     ]
    },
    {
     "data": {
      "text/plain": [
       "import org.apache.spark.sql.SparkSession\n",
       "import org.apache.spark.SparkContext\n",
       "import org.apache.spark.SparkConf\n",
       "import org.apache.spark.sql.SQLContext\n",
       "spark: org.apache.spark.sql.SparkSession = org.apache.spark.sql.SparkSession@6a3d82ac\n",
       "df: org.apache.spark.sql.DataFrame = [Date: string, Open: double ... 4 more fields]\n"
      ]
     },
     "execution_count": 4,
     "metadata": {},
     "output_type": "execute_result"
    }
   ],
   "source": [
    "// Reading a dataframe\n",
    "\n",
    "import org.apache.spark.sql.SparkSession\n",
    "\n",
    "val spark = SparkSession.builder().getOrCreate()\n",
    "\n",
    "val df = spark.read.option(\"header\",\"true\").option(\"inferSchema\",\"true\").csv(\"/Users/rahul.bhatia/Desktop/scala-training/CitiGroup2006_2008.csv\")\n",
    "\n",
    "df.describe().show()"
   ]
  },
  {
   "cell_type": "code",
   "execution_count": 29,
   "metadata": {},
   "outputs": [
    {
     "ename": "<console>",
     "evalue": "2: error: ';' expected but ',' found.",
     "output_type": "error",
     "traceback": [
      "<console>:2: error: ';' expected but ',' found.",
      "       df.count(),len(df.columns)",
      "                 ^",
      ""
     ]
    }
   ],
   "source": [
    "println(df.count())\n",
    "println,len(df.columns)"
   ]
  },
  {
   "cell_type": "code",
   "execution_count": 15,
   "metadata": {},
   "outputs": [
    {
     "name": "stdout",
     "output_type": "stream",
     "text": [
      "+----------+-----+-----+-----+-----+-------+\n",
      "|      Date| Open| High|  Low|Close| Volume|\n",
      "+----------+-----+-----+-----+-----+-------+\n",
      "|2006-01-03|490.0|493.8|481.1|492.9|1537660|\n",
      "|2006-01-04|488.6|491.0|483.5|483.8|1871020|\n",
      "+----------+-----+-----+-----+-----+-------+\n",
      "only showing top 2 rows\n",
      "\n"
     ]
    }
   ],
   "source": [
    "// Firsts  few rows of a dataframe\n",
    "df.show(5)"
   ]
  },
  {
   "cell_type": "code",
   "execution_count": 25,
   "metadata": {},
   "outputs": [
    {
     "name": "stdout",
     "output_type": "stream",
     "text": [
      "+-----+-----+\n",
      "| High|  Low|\n",
      "+-----+-----+\n",
      "|493.8|481.1|\n",
      "|491.0|483.5|\n",
      "|487.8|484.0|\n",
      "|489.0|482.0|\n",
      "|487.4|483.0|\n",
      "|485.5|480.8|\n",
      "|495.8|485.8|\n",
      "|491.0|488.8|\n",
      "|491.9|487.3|\n",
      "|487.0|482.7|\n",
      "|486.7|481.1|\n",
      "|485.8|477.0|\n",
      "|474.0|456.3|\n",
      "|463.8|457.0|\n",
      "|463.6|459.9|\n",
      "|463.7|460.1|\n",
      "|475.5|464.5|\n",
      "|473.7|466.0|\n",
      "|469.9|466.6|\n",
      "|470.5|465.5|\n",
      "+-----+-----+\n",
      "only showing top 20 rows\n",
      "\n"
     ]
    }
   ],
   "source": [
    "df.select($\"High\",$\"Low\").show()"
   ]
  },
  {
   "cell_type": "code",
   "execution_count": null,
   "metadata": {},
   "outputs": [],
   "source": []
  },
  {
   "cell_type": "code",
   "execution_count": null,
   "metadata": {},
   "outputs": [],
   "source": []
  }
 ],
 "metadata": {
  "kernelspec": {
   "display_name": "spylon-kernel",
   "language": "scala",
   "name": "spylon-kernel"
  },
  "language_info": {
   "codemirror_mode": "text/x-scala",
   "file_extension": ".scala",
   "help_links": [
    {
     "text": "MetaKernel Magics",
     "url": "https://metakernel.readthedocs.io/en/latest/source/README.html"
    }
   ],
   "mimetype": "text/x-scala",
   "name": "scala",
   "pygments_lexer": "scala",
   "version": "0.4.1"
  }
 },
 "nbformat": 4,
 "nbformat_minor": 4
}
